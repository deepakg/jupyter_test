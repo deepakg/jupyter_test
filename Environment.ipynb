{
 "cells": [
  {
   "cell_type": "code",
   "execution_count": 5,
   "id": "ee427d55",
   "metadata": {},
   "outputs": [
    {
     "name": "stdout",
     "output_type": "stream",
     "text": [
      "Apple_Terminal\n",
      "/bin/zsh\n",
      "xterm-color\n",
      "/var/folders/zf/s08fg5fs76q9ktnm408zg3940000gn/T/\n",
      "443\n",
      "93D99807-C36A-46DA-95D9-1EA121B01137\n",
      "deepakg\n",
      "/private/tmp/com.apple.launchd.d2xVKDgYno/Listeners\n",
      "/usr/local/opt/openjdk@11/bin:/usr/local/bin:/usr/bin:/bin:/usr/sbin:/sbin:/Applications/VMware Fusion.app/Contents/Public:/Library/TeX/texbin\n",
      "com.apple.Terminal\n",
      "/Users/deepakg/Desktop/oldprojs/proj/jupyter_test\n",
      "0x0\n",
      "0\n",
      "1\n",
      "/Users/deepakg\n",
      "deepakg\n",
      "/Users/deepakg/Desktop/oldprojs/proj\n",
      "UTF-8\n",
      "/usr/local/bin/jupyter\n",
      "0x1F5:0x0:0x2\n",
      "NO\n",
      "82288\n",
      "1\n",
      "cat\n",
      "cat\n",
      "module://matplotlib_inline.backend_inline\n"
     ]
    }
   ],
   "source": [
    "import os\n",
    "for key in os.environ:\n",
    "    print(key, \":\"os.environ[key])"
   ]
  },
  {
   "cell_type": "code",
   "execution_count": null,
   "id": "dea45efa",
   "metadata": {},
   "outputs": [],
   "source": []
  }
 ],
 "metadata": {
  "kernelspec": {
   "display_name": "Python 3 (ipykernel)",
   "language": "python",
   "name": "python3"
  },
  "language_info": {
   "codemirror_mode": {
    "name": "ipython",
    "version": 3
   },
   "file_extension": ".py",
   "mimetype": "text/x-python",
   "name": "python",
   "nbconvert_exporter": "python",
   "pygments_lexer": "ipython3",
   "version": "3.9.9"
  }
 },
 "nbformat": 4,
 "nbformat_minor": 5
}
